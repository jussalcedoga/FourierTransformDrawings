{
 "cells": [
  {
   "cell_type": "markdown",
   "metadata": {},
   "source": [
    "# Edge Detection and Coordinates Clockwise Sorting for Fourier Transform Drawings"
   ]
  },
  {
   "cell_type": "markdown",
   "metadata": {},
   "source": [
    "In this repo we will going to use the [opencv](https://pypi.org/project/opencv-python/) python library in order to perform edge detection. After that, we will find the coordinates of points belonging to those edges and store them into an array for their later sorting in clockwise fashion."
   ]
  },
  {
   "cell_type": "markdown",
   "metadata": {},
   "source": [
    "Let's start by importing the needed libraries."
   ]
  },
  {
   "cell_type": "code",
   "execution_count": 1,
   "metadata": {
    "collapsed": false
   },
   "outputs": [],
   "source": [
    "import numpy\n",
    "import cv2\n",
    "from matplotlib import pyplot\n",
    "%matplotlib inline"
   ]
  },
  {
   "cell_type": "markdown",
   "metadata": {},
   "source": [
    "Read the image, make sure you're using the correct path!"
   ]
  },
  {
   "cell_type": "code",
   "execution_count": 2,
   "metadata": {
    "collapsed": false
   },
   "outputs": [
    {
     "name": "stdout",
     "output_type": "stream",
     "text": [
      "<class 'numpy.ndarray'>\n"
     ]
    }
   ],
   "source": [
    "import os\n",
    "path1 = \"star.jpg\"\n",
    "if os.path.isfile(path1):\n",
    "    img1 = cv2.imread(path1, 0)\n",
    "else:\n",
    "    print (\"The file \" + path1 + \" does not exist.\")\n",
    "print(type(img1))"
   ]
  },
  {
   "cell_type": "markdown",
   "metadata": {},
   "source": [
    "Now, let's find the edges by using the [Canny Edge Detection](https://docs.opencv.org/3.1.0/da/d22/tutorial_py_canny.html) in OpenCv."
   ]
  },
  {
   "cell_type": "code",
   "execution_count": 3,
   "metadata": {
    "collapsed": false
   },
   "outputs": [
    {
     "name": "stdout",
     "output_type": "stream",
     "text": [
      "<class 'numpy.ndarray'>\n"
     ]
    }
   ],
   "source": [
    "edges = cv2.Canny(img1,100,200)\n",
    "print(type(edges))"
   ]
  },
  {
   "cell_type": "markdown",
   "metadata": {},
   "source": [
    "Let's plot the original image along with the Edge image in order to check the reliability of the algorithm."
   ]
  },
  {
   "cell_type": "code",
   "execution_count": 4,
   "metadata": {
    "collapsed": false
   },
   "outputs": [
    {
     "data": {
      "text/plain": [
       "(Text(0.5, 1.0, 'Edge Image'),\n",
       " ([], <a list of 0 Text xticklabel objects>),\n",
       " ([], <a list of 0 Text yticklabel objects>))"
      ]
     },
     "execution_count": 4,
     "metadata": {},
     "output_type": "execute_result"
    },
    {
     "data": {
      "image/png": "[encoded data removed]",
      "text/plain": [
       "<Figure size 600x400 with 2 Axes>"
      ]
     },
     "metadata": {},
     "output_type": "display_data"
    }
   ],
   "source": [
    "pyplot.subplot(121),pyplot.imshow(img1,cmap = 'gray')\n",
    "pyplot.title('Original Image'), pyplot.xticks([]), pyplot.yticks([])\n",
    "pyplot.subplot(122),pyplot.imshow(edges,cmap = 'gray')\n",
    "pyplot.title('Edge Image'), pyplot.xticks([]), pyplot.yticks([])"
   ]
  },
  {
   "cell_type": "markdown",
   "metadata": {},
   "source": [
    "Now, we will iterate over all the white pixels of the Edge image. By doing so, we can list their coordinates which will be useful at a later stage."
   ]
  },
  {
   "cell_type": "code",
   "execution_count": 5,
   "metadata": {
    "collapsed": false
   },
   "outputs": [],
   "source": [
    "plotting = []\n",
    "for index, x_axis in enumerate(edges):\n",
    "    for y, x in enumerate(x_axis):\n",
    "        if x == 255:\n",
    "            plotting.append((y, index))"
   ]
  },
  {
   "cell_type": "markdown",
   "metadata": {},
   "source": [
    "As the point of all of this image edge detection is to find the edges' coordinates and use them to feed a \"Drawing Machine\". One has to assure a proper sweep direction in the drawing process, i.e. a certain path. Otherwise, when one would try to \"draw\" using the Fourier Transform, one would get an image very similar to the one below.  "
   ]
  },
  {
   "cell_type": "code",
   "execution_count": 6,
   "metadata": {
    "collapsed": false
   },
   "outputs": [
    {
     "data": {
      "image/png": "[encoded data removed]",
      "text/plain": [
       "<Figure size 600x400 with 1 Axes>"
      ]
     },
     "metadata": {},
     "output_type": "display_data"
    }
   ],
   "source": [
    "plotting = numpy.array(plotting)\n",
    "pyplot.figure()\n",
    "pyplot.plot(plotting[:, 0], plotting[:, 1])\n",
    "pyplot.gca().set_aspect(\"equal\")"
   ]
  },
  {
   "cell_type": "markdown",
   "metadata": {},
   "source": [
    "In order to fix that, one has to sort the coordinates in clockwise type fashion, and so the Fourier Transform drawing will follow a suitable path. If the default path (above) is followed, the draw will look like as if the drawing is being \"printed\" by the Epicycles, this is not visually interesting. For more information about the nature of the problem as well as its solution, go to Stack Oveflow [question](https://stackoverflow.com/questions/41855695/sorting-list-of-two-dimensional-coordinates-by-clockwise-angle-using-python/41856340#41856340)."
   ]
  },
  {
   "cell_type": "code",
   "execution_count": 7,
   "metadata": {
    "collapsed": true
   },
   "outputs": [],
   "source": [
    "import math\n",
    "\n",
    "origin = [img1.shape[0]//2, img1.shape[1]//2]\n",
    "refvec = [500, 1]\n",
    "\n",
    "def clockwiseangle_and_distance(point):\n",
    "    # Vector between point and the origin: v = p - o\n",
    "    vector = [point[0]-origin[0], point[1]-origin[1]]\n",
    "    # Length of vector: ||v||\n",
    "    lenvector = math.hypot(vector[0], vector[1])\n",
    "    # If length is zero there is no angle\n",
    "    if lenvector == 0:\n",
    "        return -math.pi, 0\n",
    "    # Normalize vector: v/||v||\n",
    "    normalized = [vector[0]/lenvector, vector[1]/lenvector]\n",
    "    dotprod  = normalized[0]*refvec[0] + normalized[1]*refvec[1]     # x1*x2 + y1*y2\n",
    "    diffprod = refvec[1]*normalized[0] - refvec[0]*normalized[1]     # x1*y2 - y1*x2\n",
    "    angle = math.atan2(diffprod, dotprod)\n",
    "    # Negative angles represent counter-clockwise angles so we need to subtract them \n",
    "    # from 2*pi (360 degrees)\n",
    "    if angle < 0:\n",
    "        return 2*math.pi+angle, lenvector\n",
    "    # I return first the angle because that's the primary sorting criterium\n",
    "    # but if two vectors have the same angle then the shorter distance should come first.\n",
    "    return angle, lenvector"
   ]
  },
  {
   "cell_type": "code",
   "execution_count": 8,
   "metadata": {
    "collapsed": false
   },
   "outputs": [],
   "source": [
    "sorted_coordinates = sorted(plotting, key=clockwiseangle_and_distance)"
   ]
  },
  {
   "cell_type": "markdown",
   "metadata": {},
   "source": [
    "Once the coordinates have been clockwisely sorted with respect to the center of the image. One could now draw the figure by following a reasonable path, as it can be seen from the following plot."
   ]
  },
  {
   "cell_type": "code",
   "execution_count": 9,
   "metadata": {
    "collapsed": false
   },
   "outputs": [
    {
     "data": {
      "image/png": "[encoded data removed]",
      "text/plain": [
       "<Figure size 600x400 with 1 Axes>"
      ]
     },
     "metadata": {},
     "output_type": "display_data"
    }
   ],
   "source": [
    "sorted_coordinates = numpy.array(sorted_coordinates)\n",
    "pyplot.figure()\n",
    "pyplot.plot(sorted_coordinates[:, 0][::5], sorted_coordinates[:, 1][::5])\n",
    "pyplot.gca().set_aspect(\"equal\")"
   ]
  },
  {
   "cell_type": "markdown",
   "metadata": {},
   "source": [
    "Now, let's define a given amount of skipping points given that we will not need all of them in the drawing process, is way too much detail and the draw will run very slow."
   ]
  },
  {
   "cell_type": "code",
   "execution_count": 10,
   "metadata": {
    "collapsed": true
   },
   "outputs": [],
   "source": [
    "skip = 10"
   ]
  },
  {
   "cell_type": "markdown",
   "metadata": {},
   "source": [
    "Let's now write the file which fill feed the Drawing algorithm as the arbitrary function to make the discrete Fourier transform \"converge\". The Fourier transform was made in [p5](https://p5js.org/libraries/) library.  It is worth to mention that, this algorithm albeit it is functional, it is restricted to very simple shapes, for which one can obtain a clear path with respect to a given \"center\" in order to do this procedure more general, one has to adaptatively update the center with respect to which the neighboring points are being clockwisely sorted. One could think of a solution kind of similar to the one suggested in [here](https://stackoverflow.com/questions/55344597/sorting-a-complicated-collection-of-2d-euclidian-points-in-in-clockwise-counterc)."
   ]
  },
  {
   "cell_type": "markdown",
   "metadata": {},
   "source": [
    "Once the coordinates are sorted, it is time to write them down properly, so that the epicycles of the Fourier transform, can follow the path traced by these points, which can be thought of as an arbitrary function."
   ]
  },
  {
   "cell_type": "code",
   "execution_count": 11,
   "metadata": {
    "collapsed": false
   },
   "outputs": [],
   "source": [
    "filename = \"image_sorted.js\"\n",
    "outsample = open(filename, mode=\"w\")\n",
    "outsample.write(\"let drawing = [ \\n\")\n",
    "for coordinate in sorted_coordinates[::skip]:\n",
    "    x = coordinate[0]\n",
    "    y = coordinate[1]\n",
    "    outsample.write(\"{x: %f, y: %f }, \\n\"%(x, y))\n",
    "outsample.write(\"] ;\")\n",
    "outsample.close()"
   ]
  },
  {
   "cell_type": "markdown",
   "metadata": {},
   "source": [
    "After all of this procedure, one would end up with a file named *image_sorted.js* which will be stored in the *_drawing_* variable and will be used in *_sketch.js_*. You can see this in action by opening the **_index.html_** file of this repo in your preferred web browser."
   ]
  }
 ],
 "metadata": {
  "anaconda-cloud": {},
  "kernelspec": {
   "display_name": "Python [Anaconda3]",
   "language": "python",
   "name": "Python [Anaconda3]"
  },
  "language_info": {
   "codemirror_mode": {
    "name": "ipython",
    "version": 3
   },
   "file_extension": ".py",
   "mimetype": "text/x-python",
   "name": "python",
   "nbconvert_exporter": "python",
   "pygments_lexer": "ipython3",
   "version": "3.5.2"
  }
 },
 "nbformat": 4,
 "nbformat_minor": 2
}
